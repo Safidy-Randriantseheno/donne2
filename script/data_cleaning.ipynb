{
 "cells": [
  {
   "cell_type": "code",
   "execution_count": 10,
   "metadata": {},
   "outputs": [],
   "source": [
    "import pandas as pd\n",
    "import os"
   ]
  },
  {
   "attachments": {},
   "cell_type": "markdown",
   "metadata": {},
   "source": [
    "Charger les Données Brutes"
   ]
  },
  {
   "cell_type": "code",
   "execution_count": 11,
   "metadata": {},
   "outputs": [
    {
     "name": "stdout",
     "output_type": "stream",
     "text": [
      "Données brutes chargées avec succès.\n",
      "           city   timestamp  PM2.5    PM10      O3    NO2    SO2       CO\n",
      "0   Los Angeles  1722842655  12.91   21.81   11.36  84.31   7.75   527.38\n",
      "1         Paris  1722842606  14.76   21.57   12.88  25.02   3.34   410.56\n",
      "2         Tokyo  1722842657  27.24   32.74  147.34  72.66  38.15   343.80\n",
      "3  Antananarivo  1722842658  34.59   58.84   85.83   1.50   5.13  1054.76\n",
      "4       Nairobi  1722842659  91.11  174.73  177.38   7.45  13.11  2376.56\n"
     ]
    }
   ],
   "source": [
    "\n",
    "raw_data_path = '/home/safidy/airflow/data/air_pollution_data.csv'\n",
    "\n",
    "if os.path.exists(raw_data_path):\n",
    "    df = pd.read_csv(raw_data_path)\n",
    "    print(\"Données brutes chargées avec succès.\")\n",
    "    print(df.head())  # Afficher les premières lignes pour vérifier le contenu\n",
    "else:\n",
    "    print(f\"Le fichier {raw_data_path} n'existe pas.\")\n",
    "    df = pd.DataFrame()  \n"
   ]
  },
  {
   "attachments": {},
   "cell_type": "markdown",
   "metadata": {},
   "source": [
    " Sauvegarder les Données Nettoyées"
   ]
  },
  {
   "cell_type": "code",
   "execution_count": 12,
   "metadata": {},
   "outputs": [
    {
     "name": "stdout",
     "output_type": "stream",
     "text": [
      "Types des colonnes et valeurs manquantes avant nettoyage :\n",
      "<class 'pandas.core.frame.DataFrame'>\n",
      "RangeIndex: 6 entries, 0 to 5\n",
      "Data columns (total 8 columns):\n",
      " #   Column     Non-Null Count  Dtype  \n",
      "---  ------     --------------  -----  \n",
      " 0   city       6 non-null      object \n",
      " 1   timestamp  6 non-null      int64  \n",
      " 2   PM2.5      6 non-null      float64\n",
      " 3   PM10       6 non-null      float64\n",
      " 4   O3         6 non-null      float64\n",
      " 5   NO2        6 non-null      float64\n",
      " 6   SO2        6 non-null      float64\n",
      " 7   CO         6 non-null      float64\n",
      "dtypes: float64(6), int64(1), object(1)\n",
      "memory usage: 512.0+ bytes\n",
      "None\n",
      "Données après nettoyage :\n",
      "           city           timestamp  PM2.5    PM10      O3    NO2    SO2  \\\n",
      "0   Los Angeles 2024-08-05 07:24:15  12.91   21.81   11.36  84.31   7.75   \n",
      "1         Paris 2024-08-05 07:23:26  14.76   21.57   12.88  25.02   3.34   \n",
      "2         Tokyo 2024-08-05 07:24:17  27.24   32.74  147.34  72.66  38.15   \n",
      "3  Antananarivo 2024-08-05 07:24:18  34.59   58.84   85.83   1.50   5.13   \n",
      "4       Nairobi 2024-08-05 07:24:19  91.11  174.73  177.38   7.45  13.11   \n",
      "\n",
      "        CO  \n",
      "0   527.38  \n",
      "1   410.56  \n",
      "2   343.80  \n",
      "3  1054.76  \n",
      "4  2376.56  \n"
     ]
    }
   ],
   "source": [
    "\n",
    "print(\"Types des colonnes et valeurs manquantes avant nettoyage :\")\n",
    "print(df.info())\n",
    "\n",
    "df_cleaned = df.dropna()\n",
    "\n",
    "if 'timestamp' in df_cleaned.columns:\n",
    "    df_cleaned['timestamp'] = pd.to_datetime(df_cleaned['timestamp'], unit='s', errors='coerce')\n",
    "else:\n",
    "    print(\"La colonne 'timestamp' n'est pas présente dans les données.\")\n",
    "\n",
    "print(\"Données après nettoyage :\")\n",
    "print(df_cleaned.head())\n"
   ]
  },
  {
   "cell_type": "code",
   "execution_count": 13,
   "metadata": {},
   "outputs": [
    {
     "name": "stdout",
     "output_type": "stream",
     "text": [
      "Données nettoyées sauvegardées dans /home/safidy/airflow/data/cleaned_data.csv.\n"
     ]
    }
   ],
   "source": [
    "\n",
    "cleaned_data_path = '/home/safidy/airflow/data/cleaned_data.csv'\n",
    "\n",
    "df_cleaned.to_csv(cleaned_data_path, index=False)\n",
    "print(f\"Données nettoyées sauvegardées dans {cleaned_data_path}.\")\n"
   ]
  },
  {
   "attachments": {},
   "cell_type": "markdown",
   "metadata": {},
   "source": [
    "Vérifier le Fichier Nettoyé"
   ]
  },
  {
   "cell_type": "code",
   "execution_count": 14,
   "metadata": {},
   "outputs": [
    {
     "name": "stdout",
     "output_type": "stream",
     "text": [
      "Premières lignes des données nettoyées :\n",
      "           city            timestamp  PM2.5    PM10      O3    NO2    SO2  \\\n",
      "0   Los Angeles  2024-08-05 07:24:15  12.91   21.81   11.36  84.31   7.75   \n",
      "1         Paris  2024-08-05 07:23:26  14.76   21.57   12.88  25.02   3.34   \n",
      "2         Tokyo  2024-08-05 07:24:17  27.24   32.74  147.34  72.66  38.15   \n",
      "3  Antananarivo  2024-08-05 07:24:18  34.59   58.84   85.83   1.50   5.13   \n",
      "4       Nairobi  2024-08-05 07:24:19  91.11  174.73  177.38   7.45  13.11   \n",
      "\n",
      "        CO  \n",
      "0   527.38  \n",
      "1   410.56  \n",
      "2   343.80  \n",
      "3  1054.76  \n",
      "4  2376.56  \n"
     ]
    }
   ],
   "source": [
    "\n",
    "if os.path.exists(cleaned_data_path):\n",
    "    df_check = pd.read_csv(cleaned_data_path)\n",
    "    print(\"Premières lignes des données nettoyées :\")\n",
    "    print(df_check.head())\n",
    "else:\n",
    "    print(f\"Le fichier {cleaned_data_path} n'a pas été trouvé.\")\n"
   ]
  }
 ],
 "metadata": {
  "kernelspec": {
   "display_name": "Python 3",
   "language": "python",
   "name": "python3"
  },
  "language_info": {
   "codemirror_mode": {
    "name": "ipython",
    "version": 3
   },
   "file_extension": ".py",
   "mimetype": "text/x-python",
   "name": "python",
   "nbconvert_exporter": "python",
   "pygments_lexer": "ipython3",
   "version": "3.9.2"
  },
  "orig_nbformat": 4
 },
 "nbformat": 4,
 "nbformat_minor": 2
}
