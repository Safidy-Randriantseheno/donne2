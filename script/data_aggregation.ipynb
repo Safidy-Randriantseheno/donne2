{
 "cells": [
  {
   "cell_type": "code",
   "execution_count": 12,
   "metadata": {},
   "outputs": [],
   "source": [
    "import pandas as pd"
   ]
  },
  {
   "attachments": {},
   "cell_type": "markdown",
   "metadata": {},
   "source": [
    " Charger les données fusionnées\n"
   ]
  },
  {
   "cell_type": "code",
   "execution_count": 15,
   "metadata": {},
   "outputs": [],
   "source": [
    "merged_df = pd.read_csv('/home/safidy/airflow/data/merged_data.csv')"
   ]
  },
  {
   "attachments": {},
   "cell_type": "markdown",
   "metadata": {},
   "source": [
    "Agrégation des données"
   ]
  },
  {
   "cell_type": "code",
   "execution_count": 16,
   "metadata": {},
   "outputs": [],
   "source": [
    "merged_df['timestamp'] = pd.to_datetime(merged_df['timestamp'], unit='s')\n"
   ]
  },
  {
   "attachments": {},
   "cell_type": "markdown",
   "metadata": {},
   "source": [
    " Vérifier le type de données"
   ]
  },
  {
   "cell_type": "code",
   "execution_count": 17,
   "metadata": {},
   "outputs": [
    {
     "name": "stdout",
     "output_type": "stream",
     "text": [
      "datetime64[ns]\n"
     ]
    }
   ],
   "source": [
    "print(merged_df['timestamp'].dtype)\n"
   ]
  },
  {
   "attachments": {},
   "cell_type": "markdown",
   "metadata": {},
   "source": [
    " Agrégation des données par jour"
   ]
  },
  {
   "cell_type": "code",
   "execution_count": 8,
   "metadata": {},
   "outputs": [],
   "source": [
    "daily_aggregated_df = merged_df.groupby(merged_df['timestamp'].dt.date).agg({\n",
    "    'PM2.5': 'mean',\n",
    "    'PM10': 'mean',\n",
    "    'O3': 'mean',\n",
    "    'NO2': 'mean',\n",
    "    'SO2': 'mean',\n",
    "    'CO': 'mean',\n",
    "    'Population': 'mean',\n",
    "    'Density (people/km²)': 'mean',\n",
    "    'Urbanization (%)': 'mean',\n",
    "    'Average Income (USD)': 'mean',\n",
    "    'Education Level (% with Bachelor\\'s or higher)': 'mean',\n",
    "    'Altitude (m)': 'mean',\n",
    "    'Proximity to Industry (km)': 'mean'\n",
    "}).reset_index()"
   ]
  },
  {
   "attachments": {},
   "cell_type": "markdown",
   "metadata": {},
   "source": [
    "Enregistrer les données agrégées"
   ]
  },
  {
   "cell_type": "code",
   "execution_count": 10,
   "metadata": {},
   "outputs": [],
   "source": [
    "\n",
    "daily_aggregated_df.to_csv('/home/safidy/airflow/data/daily_aggregated_data.csv', index=False)"
   ]
  }
 ],
 "metadata": {
  "kernelspec": {
   "display_name": "Python 3",
   "language": "python",
   "name": "python3"
  },
  "language_info": {
   "codemirror_mode": {
    "name": "ipython",
    "version": 3
   },
   "file_extension": ".py",
   "mimetype": "text/x-python",
   "name": "python",
   "nbconvert_exporter": "python",
   "pygments_lexer": "ipython3",
   "version": "3.9.2"
  },
  "orig_nbformat": 4
 },
 "nbformat": 4,
 "nbformat_minor": 2
}
