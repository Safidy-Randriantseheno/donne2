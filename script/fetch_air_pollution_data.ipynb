{
 "cells": [
  {
   "cell_type": "code",
   "execution_count": 1,
   "metadata": {},
   "outputs": [],
   "source": [
    "import requests\n",
    "import pandas as pd"
   ]
  },
  {
   "cell_type": "code",
   "execution_count": 7,
   "metadata": {},
   "outputs": [],
   "source": [
    "# Définir les paramètres de l'API\n",
    "API_KEY = '4a35b382b8d0e669fc1f1de462ea1006'\n",
    "locations = {\n",
    "    'Los Angeles': {'lat': 34.0522, 'lon': -118.2437},\n",
    "    'Paris': {'lat': 48.8566, 'lon': 2.3522},\n",
    "    'Tokyo': {'lat': 35.6762, 'lon': 139.6503},\n",
    "    'Antananarivo': {'lat': -18.8792, 'lon': 47.5079},\n",
    "    'Nairobi': {'lat': -1.2864, 'lon': 36.8172},\n",
    "    'Lima': {'lat': -12.0464, 'lon': -77.0428}\n",
    "}"
   ]
  },
  {
   "cell_type": "code",
   "execution_count": 9,
   "metadata": {},
   "outputs": [],
   "source": [
    "\n",
    "# Fonction pour récupérer les données\n",
    "def fetch_air_pollution_data(city, lat, lon):\n",
    "    url = f\"http://api.openweathermap.org/data/2.5/air_pollution?lat={lat}&lon={lon}&appid={API_KEY}\"\n",
    "    response = requests.get(url)\n",
    "    data = response.json()\n",
    "    \n",
    "    return {\n",
    "        'city': city,\n",
    "        'timestamp': data['list'][0]['dt'],\n",
    "        'PM2.5': data['list'][0]['components'].get('pm2_5', None),\n",
    "        'PM10': data['list'][0]['components'].get('pm10', None),\n",
    "        'O3': data['list'][0]['components'].get('o3', None),\n",
    "        'NO2': data['list'][0]['components'].get('no2', None),\n",
    "        'SO2': data['list'][0]['components'].get('so2', None),\n",
    "        'CO': data['list'][0]['components'].get('co', None),\n",
    "    }"
   ]
  },
  {
   "cell_type": "code",
   "execution_count": 11,
   "metadata": {},
   "outputs": [],
   "source": [
    "# Récupérer les données pour chaque ville\n",
    "data_list = []\n",
    "for city, coords in locations.items():\n",
    "    data = fetch_air_pollution_data(city, coords['lat'], coords['lon'])\n",
    "    data_list.append(data)\n",
    "\n",
    "# Convertir en DataFrame et enregistrer en CSV\n",
    "df = pd.DataFrame(data_list)\n",
    "df.to_csv('/home/safidy/airflow/data/air_pollution_data.csv', index=False)"
   ]
  }
 ],
 "metadata": {
  "kernelspec": {
   "display_name": "Python 3",
   "language": "python",
   "name": "python3"
  },
  "language_info": {
   "codemirror_mode": {
    "name": "ipython",
    "version": 3
   },
   "file_extension": ".py",
   "mimetype": "text/x-python",
   "name": "python",
   "nbconvert_exporter": "python",
   "pygments_lexer": "ipython3",
   "version": "3.9.2"
  },
  "orig_nbformat": 4
 },
 "nbformat": 4,
 "nbformat_minor": 2
}
